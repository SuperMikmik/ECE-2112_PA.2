{
 "cells": [
  {
   "cell_type": "markdown",
   "id": "075ec3a6-887e-4eaa-91d2-d39e47d1190d",
   "metadata": {},
   "source": [
    "# <center>EXPERIMENT 2<center>NUMERICAL PYTHON (NUMPY)"
   ]
  },
  {
   "cell_type": "code",
   "execution_count": 128,
   "id": "288e510f-0826-4a7f-b02d-f4dea5f0da68",
   "metadata": {},
   "outputs": [],
   "source": [
    "#The most import part, which is to call the library\n",
    "import numpy as np"
   ]
  },
  {
   "cell_type": "markdown",
   "id": "c612be9c-7e08-42d4-9780-cdceb9af20df",
   "metadata": {},
   "source": [
    "# NORMALIZATION PROBLEM:"
   ]
  },
  {
   "cell_type": "code",
   "execution_count": 131,
   "id": "f3266b08-27ea-46ee-91e6-c0bc55c335d0",
   "metadata": {},
   "outputs": [
    {
     "data": {
      "text/plain": [
       "array([[ 0.73916094,  1.16988716,  1.34860592, -1.45584647,  1.52508211],\n",
       "       [ 0.48025981,  1.20900152, -1.00998879, -1.42833994,  0.3216694 ],\n",
       "       [-0.19581744,  0.28878346,  1.60960393, -0.9003887 ,  1.10987687],\n",
       "       [-0.74545139,  1.00703329, -1.00525855, -0.79957904,  0.33099161],\n",
       "       [-1.43118329, -0.87410098, -0.57406318, -0.84960709,  0.12966881]])"
      ]
     },
     "execution_count": 131,
     "metadata": {},
     "output_type": "execute_result"
    }
   ],
   "source": [
    "#Create the random 5 x 5 ndarray\n",
    "X = np.random.random((5,5))\n",
    "\n",
    "#The computation for normalization ((num - mean) / standard deviation))\n",
    "X = ((X - X.mean())/(X.std()))\n",
    "\n",
    "#Output the values to check\n",
    "X"
   ]
  },
  {
   "cell_type": "code",
   "execution_count": 133,
   "id": "1f97ecb5-de10-47ee-afc9-afaecad84868",
   "metadata": {},
   "outputs": [],
   "source": [
    "#As specified save the normalized values as X_Normalize.npy\n",
    "np.save('X_Normalize.npy',X)"
   ]
  },
  {
   "cell_type": "code",
   "execution_count": 135,
   "id": "b60a1d18-5c18-4af6-907b-d08d756f7d7f",
   "metadata": {},
   "outputs": [
    {
     "data": {
      "text/plain": [
       "array([[ 0.73916094,  1.16988716,  1.34860592, -1.45584647,  1.52508211],\n",
       "       [ 0.48025981,  1.20900152, -1.00998879, -1.42833994,  0.3216694 ],\n",
       "       [-0.19581744,  0.28878346,  1.60960393, -0.9003887 ,  1.10987687],\n",
       "       [-0.74545139,  1.00703329, -1.00525855, -0.79957904,  0.33099161],\n",
       "       [-1.43118329, -0.87410098, -0.57406318, -0.84960709,  0.12966881]])"
      ]
     },
     "execution_count": 135,
     "metadata": {},
     "output_type": "execute_result"
    }
   ],
   "source": [
    "#Check if the stored values are the same \n",
    "np.load('X_Normalize.npy')"
   ]
  },
  {
   "cell_type": "markdown",
   "id": "de43c59d-963b-456b-8687-af6fb34cc63e",
   "metadata": {},
   "source": [
    "# DIVISIBLE BY 3 PROBLEM:"
   ]
  },
  {
   "cell_type": "code",
   "execution_count": 138,
   "id": "d5a0ebf8-f26d-4fe3-a4ec-9150f20cacc3",
   "metadata": {},
   "outputs": [
    {
     "data": {
      "text/plain": [
       "array([   9,   36,   81,  144,  225,  324,  441,  576,  729,  900, 1089,\n",
       "       1296, 1521, 1764, 2025, 2304, 2601, 2916, 3249, 3600, 3969, 4356,\n",
       "       4761, 5184, 5625, 6084, 6561, 7056, 7569, 8100, 8649, 9216, 9801])"
      ]
     },
     "execution_count": 138,
     "metadata": {},
     "output_type": "execute_result"
    }
   ],
   "source": [
    "#First create the specified 10 x 10 ndarray\n",
    "\n",
    "#First create an array with the first 100 integers (1 - 100)\n",
    "firstInt = np.arange(1, 101)\n",
    "\n",
    "#Second square the values (1 - 10000)\n",
    "squared = firstInt ** 2\n",
    "\n",
    "#Third turn the array into a 10 x 10\n",
    "A = squared.reshape(10, 10)\n",
    "\n",
    "#Select/sort the elements that fit the parameters (all elements that are divisible by 3)\n",
    "worthy = A[A%3==0]\n",
    "\n",
    "#Output for debugging \n",
    "worthy"
   ]
  },
  {
   "cell_type": "code",
   "execution_count": 140,
   "id": "0294db74-5ef1-4c6d-ac8f-f37d5a59ba7f",
   "metadata": {},
   "outputs": [],
   "source": [
    "#As specified save the numbers divisible by three to div_by_3.npy\n",
    "np.save('div_by_3.npy',worthy)"
   ]
  },
  {
   "cell_type": "code",
   "execution_count": 142,
   "id": "40695d3d-b475-41ac-b6d3-ca5f62079168",
   "metadata": {},
   "outputs": [
    {
     "data": {
      "text/plain": [
       "array([   9,   36,   81,  144,  225,  324,  441,  576,  729,  900, 1089,\n",
       "       1296, 1521, 1764, 2025, 2304, 2601, 2916, 3249, 3600, 3969, 4356,\n",
       "       4761, 5184, 5625, 6084, 6561, 7056, 7569, 8100, 8649, 9216, 9801])"
      ]
     },
     "execution_count": 142,
     "metadata": {},
     "output_type": "execute_result"
    }
   ],
   "source": [
    "#Check if the stored values are the same \n",
    "np.load('div_by_3.npy')"
   ]
  }
 ],
 "metadata": {
  "kernelspec": {
   "display_name": "Python 3 (ipykernel)",
   "language": "python",
   "name": "python3"
  },
  "language_info": {
   "codemirror_mode": {
    "name": "ipython",
    "version": 3
   },
   "file_extension": ".py",
   "mimetype": "text/x-python",
   "name": "python",
   "nbconvert_exporter": "python",
   "pygments_lexer": "ipython3",
   "version": "3.12.4"
  }
 },
 "nbformat": 4,
 "nbformat_minor": 5
}
